{
  "cells": [
    {
      "cell_type": "code",
      "execution_count": null,
      "metadata": {
        "collapsed": false
      },
      "outputs": [],
      "source": [
        "%matplotlib inline"
      ]
    },
    {
      "cell_type": "markdown",
      "metadata": {},
      "source": [
        "\n# One Patient example\n"
      ]
    },
    {
      "cell_type": "code",
      "execution_count": null,
      "metadata": {
        "collapsed": false
      },
      "outputs": [],
      "source": [
        "# Libraries\nimport numpy as np\nimport pandas as pd\nimport seaborn as sns\nimport matplotlib as mpl\nimport matplotlib.pyplot as plt\n\n# Create dataframes\nICU = pd.read_csv(r\"/home/wb1115/PycharmProjects/ICU_Antibiotic_Cessation/ICU_diagnoses_antibiotics_microbiology.csv\")\nICU_condensed = pd.read_csv(r\"/home/wb1115/PycharmProjects/ICU_Antibiotic_Cessation/ICU_diagnoses_antibiotics.csv\")\n# One patient\nsubject_id = 11803145\n\none_patient = ICU[ICU[\"subject_id\"].isin([subject_id])]\none_patient_condensed = ICU_condensed[ICU_condensed[\"subject_id\"].isin([subject_id])]\n\n\n# Check df\nprint(one_patient.info())\nprint(one_patient.shape)\nprint(one_patient.columns)\nprint(one_patient.head)\n\n# Save df\none_patient.to_csv('One_patient_11803145.csv', index=False)\none_patient_condensed.to_csv('One_patient_condensed_11803145.csv', index=False)"
      ]
    }
  ],
  "metadata": {
    "kernelspec": {
      "display_name": "Python 3",
      "language": "python",
      "name": "python3"
    },
    "language_info": {
      "codemirror_mode": {
        "name": "ipython",
        "version": 3
      },
      "file_extension": ".py",
      "mimetype": "text/x-python",
      "name": "python",
      "nbconvert_exporter": "python",
      "pygments_lexer": "ipython3",
      "version": "3.8.5"
    }
  },
  "nbformat": 4,
  "nbformat_minor": 0
}