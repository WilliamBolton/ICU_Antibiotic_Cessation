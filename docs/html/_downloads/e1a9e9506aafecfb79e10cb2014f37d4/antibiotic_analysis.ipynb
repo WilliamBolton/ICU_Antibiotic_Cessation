{
  "cells": [
    {
      "cell_type": "code",
      "execution_count": null,
      "metadata": {
        "collapsed": false
      },
      "outputs": [],
      "source": [
        "%matplotlib inline"
      ]
    },
    {
      "cell_type": "markdown",
      "metadata": {},
      "source": [
        "\n# Antibiotic analysis\n"
      ]
    },
    {
      "cell_type": "code",
      "execution_count": null,
      "metadata": {
        "collapsed": false
      },
      "outputs": [],
      "source": [
        "# Generic libraries\nimport pandas as pd\npd.set_option('display.max_columns', 20)\npd.set_option('display.width', 2000)\nimport numpy as np\nimport seaborn as sns\nimport matplotlib as mpl\nimport matplotlib.pyplot as plt\n\n# -----------------------------\n# Constants\n# -----------------------------\n# Path\npath = '/home/wb1115/PycharmProjects/ICU_Antibiotic_Cessation/ICU_VAP_diagnoses_antibiotics_formatted.csv'\n#path = '/home/wb1115/PycharmProjects/ICU_Antibiotic_Cessation/ICU_SEPSIS_diagnoses_antibiotics_formatted.csv'\n\n# -----------------------------\n# Load data\n# -----------------------------\n# Read data\ndata = pd.read_csv(path, parse_dates=['date'])\n#print(data.info())\n#print(data)\n\ncounts = data['antibiotics'].value_counts()\nprint(counts)\n#counts.to_csv('ICU_VAP_antibiotics_counts.csv')\n#counts.to_csv('ICU_SEPSIS_antibiotics_counts.csv')\n\n# -----------------------------\n# Find out number of antibiotics and days in hospital per patient\n# -----------------------------\n\ndata2 = data.groupby([\"stay_id\"]).nunique()\nprint(data2)\n#data2.boxplot('date')\n#data2.boxplot('antibiotics')\nprint('Mean n of antibiotics:')\nprint(data2['antibiotics'].mean())\nprint('Median n of antibiotics:')\nprint(data2['antibiotics'].median())\nprint('Mean length of stay:')\nprint(data2['date'].mean())\nprint('Median length of stay:')\nprint(data2['date'].median())\n\nplt.boxplot([data2['antibiotics'], data2['date']], labels=['n_of_antibiotics', 'length_of_stay'], showmeans=True, meanline=True)\nplt.ylabel('days')\nplt.show()\nsns.violinplot(data=[data2['antibiotics'], data2['date']])\nplt.show()\n\n# -----------------------------\n# Define if antibiotic treatment is consecutive\n# -----------------------------\n\nconsecutive1 = [1]\nfor data1, data2 in zip(data['antibiotics'][:], data['antibiotics'][1:]):\n    if data1 == data2:\n        consecutive1.append(1)\n    else:\n        consecutive1.append(0)\n\nconsecutive2 = []\nfor data1, data2 in zip(data['antibiotics'][1:], data['antibiotics'][:]):\n    if data1 == data2:\n        consecutive2.append(1)\n    else:\n        consecutive2.append(0)\n\n#print(consecutive1)\n#print(consecutive2)\n\nconsecutive3 = []\nfor n, m in zip(consecutive1, consecutive2):\n    if n == 1:\n        consecutive3.append(1)\n    elif m == 1:\n        consecutive3.append(1)\n    else:\n        consecutive3.append(0)\n\nconsecutive3.append(1)\n#print(consecutive3)\ndata['consecutive'] = consecutive3\nprint(data)\n#data.to_csv('ICU_VAP_antibiotics_consecutive.csv')\n#data.to_csv('ICU_SEPSIS_antibiotics_consecutive.csv')\n\n# -----------------------------\n# Find out mean and SD length of treatment per antibiotic\n# -----------------------------\n\ncumcount2 = []\ncount2 = 1\npos = -1\n\nfor x in range(len(data)):\n    pos += 1\n    if pos == len(data) - 1:\n        if data.iloc[x]['consecutive'] == 1:\n            if data.iloc[x]['antibiotics'] == data.iloc[x - 1]['antibiotics']:\n                count2 += 1\n                cumcount2.extend([count2] * count2)\n            else:\n                if data.iloc[x - 1]['consecutive'] == 1:\n                    cumcount2.extend([count2] * count2)\n        elif data.iloc[x]['consecutive'] == 0:\n                if count2 == 1:\n                    cumcount2.append(1)\n                else:\n                    cumcount2.extend([count2] * count2)\n                    cumcount2.append(1)\n    elif data.iloc[x]['consecutive'] == 1:\n        if x == 0:\n            pass\n            #print('pass')\n        elif data.iloc[x]['antibiotics'] == data.iloc[x-1]['antibiotics']:\n            #if data.iloc[x]['stay_id'] == data.iloc[x - 1]['stay_id']:\n                count2 += 1\n            #else:\n            #    cumcount2.extend([count2] * count2)\n            #    count2 = 1\n            #    print('hi there')\n            #print('add 1 to count')\n        #elif data.iloc[x]['antibiotics'] == data.iloc[x-1]['antibiotics']:\n        #    count += 1\n        else:\n            if data.iloc[x-1]['consecutive'] == 1:\n                cumcount2.extend([count2] * count2)\n                #print('added', count2, 'LOC-1')\n                count2 = 1\n            else:\n                count2 = 1\n                #print('count2 = 1')\n    elif data.iloc[x]['consecutive'] == 0:\n        if count2 == 1:\n            cumcount2.append(1)\n            #print('added 1')\n        else:\n            cumcount2.extend([count2] * count2)\n            #print('added', count2, 'LOC-2')\n            cumcount2.append(1)\n            count2 = 1\n    else:\n        #cumcount2.append(1)\n        print('???')\n\n#print('cumcount2')\n#print(cumcount2)\n#print(len(cumcount2))\n\ndata['treatment_length'] = cumcount2\nprint(data)\n#print(data.info())\n\n### SAVE DATA ###\n#data.to_csv('ICU_VAP_antibiotics_treatment_length.csv')\n#data.to_csv('ICU_SEPSIS_antibiotics_treatment_length.csv')\n\n### VISUALISE DATA ###\ndata3 = data.groupby(['antibiotics']).nunique()\nprint('Mean antibiotic treatment length:')\nprint(data3['treatment_length'].mean())\nprint('Median antibiotic treatment length:')\nprint(data3['treatment_length'].median())\n\n\nplt.boxplot(data3['treatment_length'], labels=['antibiotic_treatment_length'], showmeans=True, meanline=True)\nplt.ylabel('days')\nplt.show()\nsns.violinplot(data=data3['treatment_length'])\nplt.show()\n\ncleaned_df = data['antibiotics'].str.replace(\"^\\[.|.\\]$\",\"\")\ncleaned_df = cleaned_df.str.replace(\"\\'\",\"\")\nprint(cleaned_df)\ndata['antibiotics_clean'] = cleaned_df\nprint(data)\n\nfiltered_df = data[data['antibiotics_clean'].map(data['antibiotics_clean'].value_counts()) > 400]\nprint(filtered_df)\n\nmeans = filtered_df.groupby('antibiotics_clean', as_index=False)['treatment_length'].mean()\nprint('means:')\nprint(means)\n#plt.bar(means['antibiotics_clean'], means['treatment_length'])\n#plt.show()\nbar_plot = means.plot.bar(x='antibiotics_clean', y='treatment_length')\nbar_plot.set_ylabel(\"days\")\nbar_plot.set_xlabel(\"antibiotic_treatment_length\")\nplt.xticks(fontsize=6)\nplt.show()"
      ]
    }
  ],
  "metadata": {
    "kernelspec": {
      "display_name": "Python 3",
      "language": "python",
      "name": "python3"
    },
    "language_info": {
      "codemirror_mode": {
        "name": "ipython",
        "version": 3
      },
      "file_extension": ".py",
      "mimetype": "text/x-python",
      "name": "python",
      "nbconvert_exporter": "python",
      "pygments_lexer": "ipython3",
      "version": "3.8.5"
    }
  },
  "nbformat": 4,
  "nbformat_minor": 0
}