{
  "cells": [
    {
      "cell_type": "code",
      "execution_count": null,
      "metadata": {
        "collapsed": false
      },
      "outputs": [],
      "source": [
        "%matplotlib inline"
      ]
    },
    {
      "cell_type": "markdown",
      "metadata": {},
      "source": [
        "\n# MIMIC DF\n"
      ]
    },
    {
      "cell_type": "code",
      "execution_count": null,
      "metadata": {
        "collapsed": false
      },
      "outputs": [],
      "source": [
        "# Libraries\nimport numpy as np\nimport pandas as pd\nimport seaborn as sns\nimport matplotlib as mpl\nimport matplotlib.pyplot as plt\n\n# Create dataframes\nicustays = pd.read_csv(r\"/home/wb1115/mimic-iv-1.0/icu/icustays.csv\")\ndiagnoses_icd = pd.read_csv(r\"/home/wb1115/mimic-iv-1.0/hosp/diagnoses_icd.csv\")\n#procedures_icd = pd.read_csv(r\"/home/wb1115/mimic-iv-1.0/hosp/procedures_icd.csv\", dtype={'icd_code': 'object'})\nantibiotic = pd.read_csv(r\"/home/wb1115/mimic-iv-1.0/mimic_derived_antibiotic.csv\")\nmicrobiologyevents = pd.read_csv(r\"/home/wb1115/mimic-iv-1.0/hosp/microbiologyevents.csv\", dtype={'quantity': 'object', 'comments': 'object'})\n#pharmacy = pd.read_csv(r\"/home/wb1115/mimic-iv-1.0/hosp/pharmacy.csv\", dtype={'lockout_interval': 'object', 'one_hr_max': 'object', 'expirationdate': 'object', 'fill_quantity': 'object'}, parse_dates=['starttime', 'stoptime', 'verifiedtime', 'expirationdate'])\n#print(pharmacy.info())\n\n\n# Check dataframes\n#print(antibiotic.shape)\n#print(procedures_icd.dtypes)\n#print(icustays.shape)\n#print(diagnoses_icd.shape)\n\n# Filter dataframes\nfiltered_diagnoses_icd = diagnoses_icd[diagnoses_icd[\"icd_code\"].isin([\"99731\", \"J95851\"])]\n#print(filtered_diagnoses_icd.info())\n\n\n#print(antibiotic.info())\nantibiotic[\"starttime\"] = pd.to_datetime(antibiotic[\"starttime\"], infer_datetime_format=True)\nantibiotic[\"stoptime\"] = pd.to_datetime(antibiotic[\"stoptime\"], infer_datetime_format=True)\nfiltered_antibiotics = antibiotic[(antibiotic[\"route\"] == \"IV\")]\nfiltered_antibiotics['length_of_treatment'] = filtered_antibiotics['stoptime'] - filtered_antibiotics['starttime']\nfiltered_antibiotics = filtered_antibiotics[(filtered_antibiotics[\"length_of_treatment\"] > '0 days')]\n\n# Check filtered dataframes\n#print(filtered_diagnoses_icd.shape)\n#print(filtered_diagnoses_icd.head)\n#print('size =', filtered_antibiotics.size)\n#print(filtered_antibiotics.info())\n#print(filtered_antibiotics.head)\n\n\n# Join dataframes\nmerge_one = pd.merge(icustays, filtered_diagnoses_icd, how=\"inner\")\nprint(merge_one.shape)\n\nmerge_two = pd.merge(merge_one, filtered_antibiotics, how=\"inner\")\nprint(merge_two.shape)\n\nmerge_three = pd.merge(merge_two, microbiologyevents, how=\"inner\")\nmerge_n = merge_three\n\n# Check joined dataframes\nprint(merge_n.info())\nprint(merge_n.shape)\nprint(merge_n.columns)\nprint(merge_n.head)\n\n# One patient\none_patient = merge_n[merge_n[\"subject_id\"].isin([\"10656173\"])]\none_patient_condensed = merge_two[merge_two[\"subject_id\"].isin([\"10656173\"])]\n\n\nprint(one_patient.info())\nprint(one_patient.shape)\nprint(one_patient.columns)\nprint(one_patient.head)\n\n# Save df\nmerge_n.to_csv('ICU_diagnoses_antibiotics_microbiology.csv', index=False)\nmerge_two.to_csv('ICU_diagnoses_antibiotics.csv', index=False)\n\none_patient.to_csv('One_patient_10656173.csv', index=False)\none_patient_condensed.to_csv('One_patient_condensed_10656173.csv', index=False)"
      ]
    }
  ],
  "metadata": {
    "kernelspec": {
      "display_name": "Python 3",
      "language": "python",
      "name": "python3"
    },
    "language_info": {
      "codemirror_mode": {
        "name": "ipython",
        "version": 3
      },
      "file_extension": ".py",
      "mimetype": "text/x-python",
      "name": "python",
      "nbconvert_exporter": "python",
      "pygments_lexer": "ipython3",
      "version": "3.8.5"
    }
  },
  "nbformat": 4,
  "nbformat_minor": 0
}