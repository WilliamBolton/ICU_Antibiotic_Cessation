{
  "cells": [
    {
      "cell_type": "code",
      "execution_count": null,
      "metadata": {
        "collapsed": false
      },
      "outputs": [],
      "source": [
        "%matplotlib inline"
      ]
    },
    {
      "cell_type": "markdown",
      "metadata": {},
      "source": [
        "\n# Variability of treatment duration\n"
      ]
    },
    {
      "cell_type": "code",
      "execution_count": null,
      "metadata": {
        "collapsed": false
      },
      "outputs": [],
      "source": [
        "# Generic libraries\nimport pandas as pd\npd.set_option('display.max_columns', 20)\npd.set_option('display.width', 2000)\nimport numpy as np\nimport seaborn as sns\nimport matplotlib as mpl\nimport matplotlib.pyplot as plt\n\n# -----------------------------\n# Constants\n# -----------------------------\n# Path\npath = '/home/wb1115/PycharmProjects/ICU_Antibiotic_Cessation/ICU_VAP_antibiotics_treatment_length.csv'\n#path = '/home/wb1115/PycharmProjects/ICU_Antibiotic_Cessation/ICU_SEPSIS_antibiotics_treatment_length.csv'\n\n# -----------------------------\n# Load data\n# -----------------------------\n# Read data\ndata = pd.read_csv(path, parse_dates=['date'])\n#print(data.info())\n#print(data)\n\n# -----------------------------\n# Format data\n# -----------------------------\n\ncleaned_df = data['antibiotics'].str.replace(\"^\\[.|.\\]$\",\"\")\ncleaned_df = cleaned_df.str.replace(\"\\'\",\"\")\n#print(cleaned_df)\ndata['antibiotics_clean'] = cleaned_df\nprint(data)\ncounts = data['antibiotics_clean'].value_counts()\nprint(counts)\ncounts1 = data['treatment_length'].value_counts()\nprint(counts1)\n\nfiltered_df = data[data['antibiotics_clean'].map(data['antibiotics_clean'].value_counts()) > 400]\nfiltered_df2 = data[data['antibiotics_clean'] == 'cefepime, vancomycin']\nprint(filtered_df)\ncounts2 = filtered_df['treatment_length'].value_counts()\ncounts3 = filtered_df2['treatment_length'].value_counts()\nprint(counts2)\nprint(counts3)\n\noverall_count_data = pd.DataFrame({'treatment_length': counts1.index, 'count': counts1.values})\nmost_common_count_data = pd.DataFrame({'treatment_length': counts2.index, 'count': counts2.values})\ncefepime_vancomycin_count_data = pd.DataFrame({'treatment_length': counts3.index, 'count': counts3.values})\n\noverall_count_data['count_normalized'] = overall_count_data['count']/overall_count_data['treatment_length']\nmost_common_count_data['count_normalized'] = most_common_count_data['count']/most_common_count_data['treatment_length']\ncefepime_vancomycin_count_data['count_normalized'] = cefepime_vancomycin_count_data['count']/cefepime_vancomycin_count_data['treatment_length']\n\noverall_count_data = overall_count_data.sort_values(by=['treatment_length'])\nmost_common_count_data = most_common_count_data.sort_values(by=['treatment_length'])\ncefepime_vancomycin_count_data = cefepime_vancomycin_count_data.sort_values(by=['treatment_length'])\n\n#print(count_data)\n\n# -----------------------------\n# Plot data\n# -----------------------------\n\nplt.scatter(x=overall_count_data['treatment_length'], y=overall_count_data['count_normalized'])\nplt.title(\"Treatment length For All Antibiotics\") #title\nplt.xlabel(\"Treatment length (days)\") #x label\nplt.ylabel(\"Count (normalized)\") #y label\nplt.show()\n\nplt.scatter(x=overall_count_data['treatment_length'], y=overall_count_data['count'])\nplt.title(\"Treatment length For All Antibiotics\") #title\nplt.xlabel(\"Treatment length (days)\") #x label\nplt.ylabel(\"Count\") #y label\nplt.show()\n\nplt.scatter(x=most_common_count_data['treatment_length'], y=most_common_count_data['count_normalized'])\nplt.title(\"Treatment length For Most Common Antibiotics\") #title\nplt.xlabel(\"Treatment length (days)\") #x label\nplt.ylabel(\"Count (normalized)\") #y label\nplt.show()\n\nplt.scatter(x=most_common_count_data['treatment_length'], y=most_common_count_data['count'])\nplt.title(\"Treatment length For Most Common Antibiotics\") #title\nplt.xlabel(\"Treatment length (days)\") #x label\nplt.ylabel(\"Count\") #y label\nplt.show()\n\nplt.scatter(x=cefepime_vancomycin_count_data['treatment_length'], y=cefepime_vancomycin_count_data['count_normalized'])\nplt.title(\"Treatment length For cefepime_vancomycin\") #title\nplt.xlabel(\"Treatment length (days)\") #x label\nplt.ylabel(\"Count (normalized)\") #y label\nplt.show()\n\nplt.scatter(x=cefepime_vancomycin_count_data['treatment_length'], y=cefepime_vancomycin_count_data['count'])\nplt.title(\"Treatment length For cefepime_vancomycin\") #title\nplt.xlabel(\"Treatment length (days)\") #x label\nplt.ylabel(\"Count\") #y label\nplt.show()"
      ]
    }
  ],
  "metadata": {
    "kernelspec": {
      "display_name": "Python 3",
      "language": "python",
      "name": "python3"
    },
    "language_info": {
      "codemirror_mode": {
        "name": "ipython",
        "version": 3
      },
      "file_extension": ".py",
      "mimetype": "text/x-python",
      "name": "python",
      "nbconvert_exporter": "python",
      "pygments_lexer": "ipython3",
      "version": "3.8.5"
    }
  },
  "nbformat": 4,
  "nbformat_minor": 0
}